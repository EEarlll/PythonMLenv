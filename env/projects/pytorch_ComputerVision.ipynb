{
 "cells": [
  {
   "attachments": {},
   "cell_type": "markdown",
   "metadata": {},
   "source": [
    "### Core"
   ]
  },
  {
   "cell_type": "code",
   "execution_count": 6,
   "metadata": {},
   "outputs": [],
   "source": [
    "# Header\n",
    "import torch\n",
    "from torch import nn\n",
    "import torchvision\n",
    "from torchvision import datasets\n",
    "from torch.utils.data import DataLoader\n",
    "from torchvision import transforms\n",
    "from torchvision.transforms import ToTensor\n",
    "import pandas as pd\n",
    "import numpy as np\n",
    "import matplotlib.pyplot as plt\n",
    "from pathlib import Path\n",
    "import sklearn\n",
    "from torchmetrics import Accuracy , ConfusionMatrix\n",
    "from mlxtend.plotting import plot_confusion_matrix\n",
    "from tqdm.auto import tqdm\n",
    "from timeit import default_timer as timer\n",
    "import random\n",
    "from sklearn.model_selection import train_test_split\n",
    "device = \"cuda\" if torch.cuda.is_available() else \"cpu\""
   ]
  },
  {
   "cell_type": "code",
   "execution_count": 7,
   "metadata": {},
   "outputs": [],
   "source": [
    "# functions\n",
    "def tensorprint(tensor):\n",
    "    print(\"Shape: \" , tensor.shape, \" , Dimension: \", tensor.ndim , \" \\nDtype: \", tensor.dtype, \" , Device: \", tensor.device)\n",
    "    print(\"Max: \", tensor.amax(),f'[{tensor.argmax()}]', \" , Min: \", tensor.amin(),f'[{tensor.argmin()}]')\n",
    "    print(tensor ,'\\n')\n",
    "\n",
    "def torch_rng():\n",
    "    torch.manual_seed(42)\n",
    "    torch.cuda.manual_seed(42)\n",
    "\n",
    "def accuracy_fn(y_true,y_pred):\n",
    "    correct = torch.eq(y_true, y_pred).sum().item()\n",
    "    acc = (correct/len(y_pred)) * 100\n",
    "    return acc\n",
    "\n",
    "def print_time(start,end,device = None):\n",
    "    total_time = end - start\n",
    "    print(f\"Train time on {device}: {total_time:.3f} seconds\")\n",
    "    return total_time\n",
    "\n",
    "def eval_model(model: torch.nn.Module, \n",
    "                dataloader:torch.utils.data.DataLoader, \n",
    "                loss_fn:torch.nn.Module,\n",
    "                accuracy_fn,\n",
    "                device: torch.device = device):        \n",
    "    \"\"\"Returns a dictionary containing result of model predicting on dataloader.\"\"\"\n",
    "    loss, acc = 0,0\n",
    "    model.eval()\n",
    "    with torch.inference_mode():\n",
    "        for X, y in tqdm(dataloader):\n",
    "            X, y = X.to(device), y.to(device)\n",
    "            y_pred = model(X)\n",
    "            loss += loss_fn(y_pred, y)\n",
    "            acc+= accuracy_fn(y,y_pred.argmax(dim=1))\n",
    "        loss /= len(dataloader)\n",
    "        acc /= len(dataloader)    \n",
    "\n",
    "    return {\"model_name\":model.__class__.__name__,\n",
    "            \"model_loss\":loss.item(),\n",
    "            \"model_acc\":acc}\n",
    "\n",
    "def train_step(model: torch.nn.Module,\n",
    "                dataloader:torch.utils.data.DataLoader,\n",
    "                loss_fn:torch.nn.Module,\n",
    "                optimizer:torch.optim.Optimizer,\n",
    "                accuracy_fn,\n",
    "                device: torch.device = device):\n",
    "    \"\"\"Performs training on dataloader.\"\"\"\n",
    "    train_loss, train_acc = 0,0\n",
    "    model.train()\n",
    "    for X,y in dataloader:\n",
    "        \n",
    "        X, y = X.to(device), y.to(device)\n",
    "        \n",
    "        y_pred = model(X)\n",
    "\n",
    "        loss = loss_fn(y_pred, y)\n",
    "        train_loss += loss\n",
    "        train_acc += accuracy_fn(y, y_pred.argmax(dim=1))\n",
    "        optimizer.zero_grad()\n",
    "        loss.backward()\n",
    "        optimizer.step()\n",
    "\n",
    "    train_loss /= len(dataloader)\n",
    "    train_acc /= len(dataloader)\n",
    "    print(f\"\\nTrain loss: {train_loss:.4f} | Train acc: {train_acc:.2f}\")\n",
    "\n",
    "def test_step(model: torch.nn.Module,\n",
    "                dataloader:torch.utils.data.DataLoader,\n",
    "                loss_fn:torch.nn.Module,\n",
    "                accuracy_fn,\n",
    "                device: torch.device = device):\n",
    "    \"\"\"Performs testing on dataloader.\"\"\"\n",
    "    test_loss, test_acc = 0,0\n",
    "    model.eval()\n",
    "\n",
    "    with torch.inference_mode():\n",
    "        for X,y in dataloader:\n",
    "            X, y = X.to(device), y.to(device)\n",
    "            test_pred = model(X)\n",
    "            test_loss += loss_fn(test_pred,y)\n",
    "            test_acc += accuracy_fn(y,test_pred.argmax(dim=1))\n",
    "\n",
    "        test_loss /= len(dataloader)\n",
    "        test_acc /= len(dataloader)\n",
    "    print(f\"\\nTest loss: {test_loss:.4f} | Test acc: {test_acc:.2f}\")\n",
    "\n",
    "def make_predictions(model: torch.nn.Module,\n",
    "                        data:list,\n",
    "                        device : torch.device = device):\n",
    "    pred_probs = []\n",
    "    model.to(device)\n",
    "    model.eval()\n",
    "    with torch.inference_mode():\n",
    "        for i in data:\n",
    "            sample = i.unsqueeze(dim=0).to(device)\n",
    "            pred_logit = model(sample)\n",
    "            pred_prob = torch.softmax(pred_logit.squeeze(), dim=0)\n",
    "            pred_probs.append(pred_prob.cpu())\n",
    "        \n",
    "    return torch.stack(pred_probs)\n",
    "            "
   ]
  },
  {
   "attachments": {},
   "cell_type": "markdown",
   "metadata": {},
   "source": [
    "### Computer Vision Fundamentals"
   ]
  },
  {
   "cell_type": "code",
   "execution_count": 8,
   "metadata": {},
   "outputs": [
    {
     "data": {
      "text/plain": [
       "Dataset FashionMNIST\n",
       "    Number of datapoints: 60000\n",
       "    Root location: data\n",
       "    Split: Train\n",
       "    StandardTransform\n",
       "Transform: ToTensor()"
      ]
     },
     "execution_count": 8,
     "metadata": {},
     "output_type": "execute_result"
    }
   ],
   "source": [
    "# Create A Dataset\n",
    "train_data = datasets.FashionMNIST(\n",
    "    root = \"data\",\n",
    "    train = True,\n",
    "    download = True,\n",
    "    transform=torchvision.transforms.ToTensor(),\n",
    "    target_transform= None\n",
    ")\n",
    "test_data = datasets.FashionMNIST(\n",
    "    root = \"data\",\n",
    "    train = False,\n",
    "    download= True,\n",
    "    transform=torchvision.transforms.ToTensor(),\n",
    "    target_transform= None\n",
    ")\n",
    "train_data"
   ]
  },
  {
   "cell_type": "code",
   "execution_count": 9,
   "metadata": {},
   "outputs": [
    {
     "data": {
      "image/png": "[encoded data removed]",
      "text/plain": [
       "<Figure size 900x900 with 18 Axes>"
      ]
     },
     "metadata": {},
     "output_type": "display_data"
    }
   ],
   "source": [
    "# Properties of Dataset\n",
    "image, label = train_data[0]\n",
    "\n",
    "class_names = train_data.classes\n",
    "class_to_idx = train_data.class_to_idx\n",
    "train_target = train_data.targets\n",
    "#tensorprint(image)\n",
    "\n",
    "fig = plt.figure(figsize=(9,9))\n",
    "torch_rng()\n",
    "for i in range(1, 19):\n",
    "    random_idx = torch.randint(0,len(train_data), size =[1]).item()\n",
    "    img , label = train_data[random_idx]\n",
    "    fig.add_subplot(6,6,i)\n",
    "    plt.imshow(img.squeeze(), cmap=\"gray\")\n",
    "    plt.title(class_names[label])\n",
    "    plt.axis(False)"
   ]
  },
  {
   "cell_type": "code",
   "execution_count": 10,
   "metadata": {},
   "outputs": [
    {
     "name": "stdout",
     "output_type": "stream",
     "text": [
      "train:  1875  test:  313\n"
     ]
    },
    {
     "data": {
      "image/png": "[encoded data removed]",
      "text/plain": [
       "<Figure size 300x300 with 1 Axes>"
      ]
     },
     "metadata": {},
     "output_type": "display_data"
    }
   ],
   "source": [
    "# Properties of Dataloader\n",
    "\n",
    "BATCH_SIZE =32\n",
    "# length of image  = 60k \n",
    "# length of dataloader = 60k / BATCH_SIZE = 1875\n",
    "# dataloader = img, label\n",
    "# img = 32 of 1875 \n",
    "# label = 32 of 9\n",
    "\n",
    "train_dataloader = DataLoader(dataset=train_data,\n",
    "                            batch_size=BATCH_SIZE,\n",
    "                            shuffle=True)\n",
    "test_dataloader = DataLoader(dataset=test_data,\n",
    "                                batch_size=BATCH_SIZE,\n",
    "                                shuffle=False)\n",
    "\n",
    "train_features_batch , train_labels_batch = next(iter(train_dataloader))\n",
    "\n",
    "random_idx = torch.randint(0,len(train_features_batch), size=[1]).item()\n",
    "img, label = train_features_batch[random_idx], train_labels_batch[random_idx]\n",
    "fig = plt.figure(figsize=(3,3))\n",
    "plt.imshow(img.squeeze(), cmap=\"gray\")\n",
    "plt.title(class_names[label])\n",
    "plt.axis(False)\n",
    "print(\"train: \", len(train_dataloader), \" test: \",len(test_dataloader))"
   ]
  },
  {
   "attachments": {},
   "cell_type": "markdown",
   "metadata": {},
   "source": [
    "### Baseline Models"
   ]
  },
  {
   "cell_type": "code",
   "execution_count": null,
   "metadata": {},
   "outputs": [],
   "source": [
    "# Creating a flatten layer\n",
    "flatten_model = nn.Flatten()\n",
    "\n",
    "x = train_features_batch[0]\n",
    "output = flatten_model(x)              # do forward pass/ [1,28,28] -> 784 = 28*28\n",
    "tensorprint(output)"
   ]
  },
  {
   "cell_type": "code",
   "execution_count": null,
   "metadata": {},
   "outputs": [],
   "source": [
    "# Build a baseline model\n",
    "\n",
    "class FashionMNISTModelv1(nn.Module):\n",
    "    def __init__(self, input, output, hidden) -> None:\n",
    "        super().__init__()\n",
    "        self.layer_stack = nn.Sequential(\n",
    "            nn.Flatten(),\n",
    "            nn.Linear(in_features=input, out_features=hidden),\n",
    "            nn.Linear(in_features=hidden, out_features=hidden),\n",
    "            nn.Linear(in_features=hidden, out_features=output)\n",
    "        )\n",
    "\n",
    "    def forward(self,x):\n",
    "        return self.layer_stack(x)\n",
    "\n",
    "torch_rng()\n",
    "model_3 = FashionMNISTModelv1(\n",
    "    input= 784,                                     # flatten layer = 28*28\n",
    "    output= len(class_names),                       # one for each differetiate\n",
    "    hidden=32                                        # hidden layers\n",
    ")\n",
    "\n",
    "dummy_x = torch.rand([1,1,28,28])\n",
    "parameter = model_3.state_dict()\n",
    "pred = model_3(dummy_x)\n",
    "pred"
   ]
  },
  {
   "cell_type": "code",
   "execution_count": null,
   "metadata": {},
   "outputs": [],
   "source": [
    "# Training baseline model\n",
    "torch_rng()\n",
    "loss_fn = nn.CrossEntropyLoss()\n",
    "optimizer = torch.optim.SGD(params=model_3.parameters(), lr = 0.1)\n",
    "\n",
    "start = timer()\n",
    "epochs = 3\n",
    "\n",
    "for epoch in tqdm(range(epochs)):\n",
    "    train_loss = 0\n",
    "    \n",
    "    # train for each batch = length , X = img , y = Label\n",
    "    for batch, (X,y) in enumerate(train_dataloader):\n",
    "        model_3.train()\n",
    "\n",
    "        y_pred = model_3(X)\n",
    "        loss = loss_fn(y_pred, y)                     # Calculate -\n",
    "        train_loss += loss                            # - loss per batch\n",
    "        \n",
    "        optimizer.zero_grad()\n",
    "        loss.backward()\n",
    "        optimizer.step()\n",
    "    \n",
    "    # train loss average per batch\n",
    "    train_loss /= len(train_dataloader)\n",
    "\n",
    "    # Testing\n",
    "    test_loss , test_acc = 0, 0\n",
    "    model_3.eval()\n",
    "\n",
    "    # test in test_dataloader\n",
    "    with torch.inference_mode():\n",
    "        for X_test,y_test in test_dataloader:\n",
    "            test_pred = model_3(X_test)\n",
    "            test_loss += loss_fn(test_pred,y_test)\n",
    "            test_acc += accuracy_fn(y_test,test_pred.argmax(dim=1))\n",
    "\n",
    "        # test loss & acc average per batch\n",
    "        test_loss /= len(test_dataloader)\n",
    "        test_acc /= len(test_dataloader)\n",
    "\n",
    "    print(f\"\\nTrain loss: {train_loss:.4f} | Test loss: {test_loss:.4f}, Test acc: {test_acc:.4f}\")\n",
    "\n",
    "end = timer()\n",
    "print_time(start,end,str(next(model_3.parameters()).device))        "
   ]
  },
  {
   "cell_type": "code",
   "execution_count": null,
   "metadata": {},
   "outputs": [],
   "source": [
    "# Build model GPU, Non-linear\n",
    "\n",
    "class FashionMNISTModelv2(nn.Module):\n",
    "    def __init__(self,input, output,hidden) -> None:\n",
    "        super().__init__()\n",
    "        self.layer_stack = nn.Sequential(\n",
    "            nn.Flatten(),\n",
    "            nn.Linear(in_features=input, out_features=hidden),\n",
    "            nn.ReLU(),\n",
    "            nn.Linear(in_features=hidden, out_features=hidden),\n",
    "            nn.ReLU(),\n",
    "            nn.Linear(in_features=hidden, out_features=output),\n",
    "        )\n",
    "    def forward(self, x):\n",
    "        return self.layer_stack(x)\n",
    "\n",
    "torch_rng()\n",
    "model_3v2 = FashionMNISTModelv2(\n",
    "    input= 784,                                     # flatten layer = 28*28\n",
    "    output= len(class_names),                       # one for each differetiate\n",
    "    hidden=8                                        # hidden units\n",
    ").to(device)\n",
    "parameterv2 = model_3v2.state_dict()"
   ]
  },
  {
   "cell_type": "code",
   "execution_count": null,
   "metadata": {},
   "outputs": [],
   "source": [
    "# Train model GPU, non-linear\n",
    "\n",
    "torch_rng()\n",
    "loss_fn = nn.CrossEntropyLoss()\n",
    "optimizer = torch.optim.SGD(params=model_3v2.parameters(),lr = 0.1)\n",
    "\n",
    "start = timer()\n",
    "epochs = 3\n",
    "for epoch in tqdm(range(epochs)):\n",
    "    train_step(model_3v2,train_dataloader,loss_fn,optimizer,accuracy_fn,device)\n",
    "    test_step(model_3v2,test_dataloader,loss_fn,accuracy_fn,device)\n",
    "end = timer()\n",
    "print_time(start,end,device)"
   ]
  },
  {
   "attachments": {},
   "cell_type": "markdown",
   "metadata": {},
   "source": [
    "### Convolutional Neural Network (CNN)"
   ]
  },
  {
   "cell_type": "code",
   "execution_count": 12,
   "metadata": {},
   "outputs": [
    {
     "name": "stdout",
     "output_type": "stream",
     "text": [
      "torch.Size([1, 10, 14, 14])\n",
      "torch.Size([1, 10, 7, 7])\n"
     ]
    },
    {
     "data": {
      "text/plain": [
       "tensor([[ 0.0366, -0.0940,  0.0686, -0.0485,  0.0068,  0.0290,  0.0132,  0.0084,\n",
       "         -0.0030, -0.0185]], device='cuda:0', grad_fn=<AddmmBackward0>)"
      ]
     },
     "execution_count": 12,
     "metadata": {},
     "output_type": "execute_result"
    }
   ],
   "source": [
    "# Build CNN model\n",
    "\n",
    "class FashionMNISTModelv3(nn.Module):\n",
    "    \"\"\"\n",
    "    Model architecture created by earlll\n",
    "    \"\"\"\n",
    "    def __init__(self, input, output,hidden) -> None:\n",
    "        super().__init__()\n",
    "        self.conv_block_1 = nn.Sequential(\n",
    "            nn.Conv2d(in_channels=input,            \n",
    "                        out_channels=hidden,        \n",
    "                        kernel_size= 3,\n",
    "                        stride=1,\n",
    "                        padding=1),\n",
    "            nn.ReLU(),\n",
    "            nn.Conv2d(in_channels=hidden,\n",
    "                        out_channels=hidden,\n",
    "                        kernel_size=3,\n",
    "                        stride=1,\n",
    "                        padding=1),\n",
    "            nn.ReLU(),\n",
    "            nn.MaxPool2d(kernel_size=2)\n",
    "        )\n",
    "        self.conv_block_2 = nn.Sequential(\n",
    "            nn.Conv2d(in_channels=hidden,\n",
    "                        out_channels=hidden,\n",
    "                        kernel_size=3,\n",
    "                        stride=1,\n",
    "                        padding=1),\n",
    "            nn.ReLU(),\n",
    "            nn.Conv2d(in_channels=hidden,\n",
    "                        out_channels=hidden,\n",
    "                        kernel_size=3,\n",
    "                        stride=1,\n",
    "                        padding=1),\n",
    "            nn.ReLU(),\n",
    "            nn.MaxPool2d(kernel_size=2)\n",
    "        )\n",
    "        self.classifier = nn.Sequential(\n",
    "            nn.Flatten(),\n",
    "            nn.Linear(in_features=hidden*7*7,out_features=output)\n",
    "        )\n",
    "    def forward(self,x):\n",
    "        x = self.conv_block_1(x)\n",
    "        x = self.conv_block_2(x)\n",
    "        x = self.classifier(x)\n",
    "        return x\n",
    "\n",
    "torch_rng()\n",
    "model_3v3 = FashionMNISTModelv3(\n",
    "    input=1,                                            # num of color\n",
    "    output= len(class_names),                           # num of classification\n",
    "    hidden=10,                                          # num of layer\n",
    ").to(device)\n",
    "parameters = model_3v3.state_dict()\n",
    "random_image = torch.randn(size=(1,28,28))\n",
    "model_3v3(random_image.unsqueeze(0).to(device))"
   ]
  },
  {
   "cell_type": "code",
   "execution_count": null,
   "metadata": {},
   "outputs": [],
   "source": [
    "# Train model\n",
    "loss_fn = nn.CrossEntropyLoss()\n",
    "optimizer = torch.optim.SGD(params=model_3v3.parameters(), lr=0.1)\n",
    "\n",
    "torch_rng()\n",
    "start = timer()\n",
    "epochs = 6\n",
    "for epoch in tqdm(range(epochs)):\n",
    "    train_step(model_3v3, train_dataloader,loss_fn,optimizer,accuracy_fn,device)\n",
    "    test_step(model_3v3,test_dataloader,loss_fn,accuracy_fn,device)\n",
    "end = timer()\n",
    "print_time(start,end, device)"
   ]
  },
  {
   "cell_type": "code",
   "execution_count": null,
   "metadata": {},
   "outputs": [],
   "source": [
    "# Predictions \n",
    "torch_rng()\n",
    "y_pred_list = []\n",
    "model_3v3.eval()\n",
    "with torch.inference_mode():\n",
    "    for X, y in tqdm(test_dataloader, desc =\"Making Predictons... \"):\n",
    "        X, y = X.to(device), y.to(device)\n",
    "        y_logit = model_3v3(X)\n",
    "        y_pred = torch.softmax(y_logit.squeeze(), dim =0).argmax(dim=1)\n",
    "        y_pred_list.append(y_pred.cpu())\n",
    "y_pred_tensor = torch.cat(y_pred_list)\n",
    "tensorprint(y_pred_tensor)"
   ]
  },
  {
   "cell_type": "code",
   "execution_count": null,
   "metadata": {},
   "outputs": [],
   "source": [
    "# Save Model \n",
    "\n",
    "# MODEL_PATH = Path(\"Models\")\n",
    "# MODEL_PATH.mkdir(parents= True, exist_ok =True)\n",
    "# MODEL_NAME = \"01_FashionMNISTModelv3_0.pt\"\n",
    "# MODEL_SAVE_PATH = MODEL_PATH / MODEL_NAME\n",
    "\n",
    "# torch.save(model_3v3.state_dict(), MODEL_SAVE_PATH)"
   ]
  },
  {
   "attachments": {},
   "cell_type": "markdown",
   "metadata": {},
   "source": [
    "### Evaluation"
   ]
  },
  {
   "cell_type": "code",
   "execution_count": null,
   "metadata": {},
   "outputs": [],
   "source": [
    "# Evaluation\n",
    "torch_rng()\n",
    "model_3_results = eval_model(model_3,test_dataloader,loss_fn,accuracy_fn,\"cpu\")\n",
    "model_3v2_results = eval_model(model_3v2,test_dataloader,loss_fn,accuracy_fn)\n",
    "model_3v3_results = eval_model(model_3v3,test_dataloader,loss_fn,accuracy_fn)\n",
    "compare = pd.DataFrame([model_3_results, model_3v2_results, model_3v3_results])\n",
    "plt.figure(figsize=(8,4))\n",
    "compare.set_index(\"model_name\")[\"model_acc\"].plot(kind=\"barh\")\n",
    "plt.xlabel(\"accuracy%\")\n",
    "plt.ylabel(\"model\")\n",
    "compare"
   ]
  },
  {
   "cell_type": "code",
   "execution_count": null,
   "metadata": {},
   "outputs": [],
   "source": [
    "# Comparison\n",
    "test_samples = []\n",
    "test_labels = []\n",
    "for sample, label in random.sample(list(test_data), k=9):\n",
    "    test_samples.append(sample)\n",
    "    test_labels.append(label)\n",
    "    \n",
    "pred_prob = make_predictions(model_3v3, test_samples)\n",
    "pred_prob = pred_prob.argmax(dim=1)\n",
    "\n",
    "for i , sample in enumerate(test_samples):\n",
    "    plt.subplot(3,3,i+1)\n",
    "    plt.imshow(sample.squeeze())\n",
    "    pred_label = class_names[pred_prob[i].item()]\n",
    "    truth_label = class_names[test_labels[i]]\n",
    "    title_text = f\"Pred:{pred_label} | Truth:{truth_label}\"\n",
    "    if pred_label == truth_label:\n",
    "        plt.title(title_text, fontsize = 7, c ='g')\n",
    "    else:\n",
    "        plt.title(title_text, fontsize = 7, c='r')\n",
    "    plt.axis(False)"
   ]
  },
  {
   "cell_type": "code",
   "execution_count": null,
   "metadata": {},
   "outputs": [],
   "source": [
    "# Confusion Matrix\n",
    "confmat = ConfusionMatrix(task='multiclass',num_classes=len(class_names))\n",
    "confmat_tensor = confmat(preds = y_pred_tensor,\n",
    "                        target = test_data.targets)\n",
    "fix , ax = plot_confusion_matrix(\n",
    "    conf_mat = confmat_tensor.numpy(),\n",
    "    class_names=class_names,\n",
    "    figsize=(9,6)\n",
    ")"
   ]
  }
 ],
 "metadata": {
  "kernelspec": {
   "display_name": "env",
   "language": "python",
   "name": "python3"
  },
  "language_info": {
   "codemirror_mode": {
    "name": "ipython",
    "version": 3
   },
   "file_extension": ".py",
   "mimetype": "text/x-python",
   "name": "python",
   "nbconvert_exporter": "python",
   "pygments_lexer": "ipython3",
   "version": "3.10.6"
  },
  "orig_nbformat": 4,
  "vscode": {
   "interpreter": {
    "hash": "8174828e92d9e3a5ca64f417386608000b35cfcceb5edd6aed1e8771c000af37"
   }
  }
 },
 "nbformat": 4,
 "nbformat_minor": 2
}
